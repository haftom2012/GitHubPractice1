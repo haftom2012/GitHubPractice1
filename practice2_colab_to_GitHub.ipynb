{
  "nbformat": 4,
  "nbformat_minor": 0,
  "metadata": {
    "colab": {
      "provenance": [],
      "authorship_tag": "ABX9TyN1/BmTPFyhnaY0BQTCBNXN",
      "include_colab_link": true
    },
    "kernelspec": {
      "name": "python3",
      "display_name": "Python 3"
    },
    "language_info": {
      "name": "python"
    }
  },
  "cells": [
    {
      "cell_type": "markdown",
      "metadata": {
        "id": "view-in-github",
        "colab_type": "text"
      },
      "source": [
        "<a href=\"https://colab.research.google.com/github/haftom2012/GitHubPractice1/blob/main/practice2_colab_to_GitHub.ipynb\" target=\"_parent\"><img src=\"https://colab.research.google.com/assets/colab-badge.svg\" alt=\"Open In Colab\"/></a>"
      ]
    },
    {
      "cell_type": "code",
      "execution_count": 1,
      "metadata": {
        "id": "BsEGlbB9BTHr"
      },
      "outputs": [],
      "source": [
        "## steps to upload colab notebook to GitHub repository"
      ]
    },
    {
      "cell_type": "markdown",
      "source": [
        "## steps to upload colab notebook to GitHub repository"
      ],
      "metadata": {
        "id": "AOosRiMzCWfU"
      }
    },
    {
      "cell_type": "code",
      "source": [
        "print(\"\\nfirst time to upload colab notebook to GitHub repo.\\n\")"
      ],
      "metadata": {
        "colab": {
          "base_uri": "https://localhost:8080/"
        },
        "id": "j3bCO_qWB1ju",
        "outputId": "0977f5fb-cef2-4aa5-9750-1cbec8f2571a"
      },
      "execution_count": 3,
      "outputs": [
        {
          "output_type": "stream",
          "name": "stdout",
          "text": [
            "\n",
            "first time to upload colab notebook to GitHub repo.\n",
            "\n"
          ]
        }
      ]
    }
  ]
}